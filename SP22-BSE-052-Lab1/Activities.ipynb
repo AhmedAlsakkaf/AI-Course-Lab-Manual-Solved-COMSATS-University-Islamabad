{
 "cells": [
  {
   "cell_type": "code",
   "execution_count": 2,
   "metadata": {},
   "outputs": [],
   "source": [
    "# Activity1\n",
    "n = int(input(\"Enter integer number:\"))\n",
    "if (n%2==0):\n",
    "  print(\"The given number is even!\")\n",
    "elif(n%2!=0):\n",
    "  print(\"The given number is odd!\")\n",
    "\n",
    "else:\n",
    "  print(\"enter a valid number!\")"
   ]
  },
  {
   "cell_type": "code",
   "execution_count": null,
   "metadata": {},
   "outputs": [],
   "source": [
    "\n",
    "#Activity2\n",
    "sum = 0\n",
    "num = 1\n",
    "while(num!=0):\n",
    "  num = int(input(\"Enter a number please, press 0 to exit: \"))\n",
    "  sum = sum+num\n",
    "\n",
    "print(\"The Sum of the numbers you eneted are: \",sum)\n",
    "\n"
   ]
  },
  {
   "cell_type": "code",
   "execution_count": null,
   "metadata": {},
   "outputs": [],
   "source": [
    "# Activity3\n",
    "\n",
    "num = int(input(\"Enter a number to check if prime: \"))\n",
    "i = 2\n",
    "\n",
    "isPrime = True\n",
    "\n",
    "while i<num:\n",
    "  remainder = num%i\n",
    "  if remainder == 0:\n",
    "    isPrime = False\n",
    "    break\n",
    "  else:\n",
    "    i = i+1\n",
    "\n",
    "if(isPrime):\n",
    "  print(\"The given number is a prime\")\n",
    "else:\n",
    "  print(\"The given number is not a prime!\")\n"
   ]
  },
  {
   "cell_type": "code",
   "execution_count": null,
   "metadata": {},
   "outputs": [],
   "source": [
    "\n",
    "#Activity4\n",
    "\n",
    "sum = 0\n",
    "i = 0\n",
    "\n",
    "\n",
    "for i in range(5):\n",
    "  num = int(input(\"Enter a number: \"))\n",
    "  sum = sum+num\n",
    "  \n",
    "print(\"The sum of the given numbers is: \", sum)\n",
    "\n"
   ]
  },
  {
   "cell_type": "code",
   "execution_count": null,
   "metadata": {},
   "outputs": [],
   "source": [
    "\n",
    "#Activity#5\n",
    "\n",
    "sum = 0\n",
    "i = 0\n",
    "while i<=10:\n",
    "  sum = sum+i\n",
    "  i = i+1\n",
    "\n",
    "print(\"the sum of 1 to 10 is: \", sum)\n",
    "\n"
   ]
  },
  {
   "cell_type": "code",
   "execution_count": null,
   "metadata": {},
   "outputs": [],
   "source": [
    "\n",
    "##Activity#7\n",
    "import random\n",
    "\n",
    "num = random.randint(1, 9)\n",
    "\n",
    "guess = '0'\n",
    "\n",
    "while guess.lower() != \"exit\":\n",
    "    guess = input(\"Enter Your Guess (or type 'exit' to quit): \")\n",
    "\n",
    "    if guess.lower() == \"exit\":\n",
    "        print(\"Better luck next time.\")\n",
    "        break\n",
    "\n",
    "    try:\n",
    "        guess = int(guess)\n",
    "    except ValueError:\n",
    "        print(\"Please enter a valid number or type 'exit' to quit.\")\n",
    "        continue\n",
    "\n",
    "    if num == guess:\n",
    "        print(\"You have guessed the right number! Good job!\")\n",
    "        break  \n",
    "    elif guess < num:\n",
    "        print(\"Your guess is too low. Try a bigger number.\")\n",
    "    elif guess > num:\n",
    "        print(\"Your guess is too high. Try a smaller number.\")\n"
   ]
  }
 ],
 "metadata": {
  "kernelspec": {
   "display_name": "Python 3",
   "language": "python",
   "name": "python3"
  },
  "language_info": {
   "codemirror_mode": {
    "name": "ipython",
    "version": 3
   },
   "file_extension": ".py",
   "mimetype": "text/x-python",
   "name": "python",
   "nbconvert_exporter": "python",
   "pygments_lexer": "ipython3",
   "version": "3.12.3"
  }
 },
 "nbformat": 4,
 "nbformat_minor": 2
}

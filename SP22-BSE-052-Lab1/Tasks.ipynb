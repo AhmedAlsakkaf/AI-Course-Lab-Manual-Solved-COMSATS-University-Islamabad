{
 "cells": [
  {
   "cell_type": "code",
   "execution_count": 2,
   "metadata": {},
   "outputs": [],
   "source": [
    "#Task1\n",
    "\n",
    "number = int(input(\"Enter an integer: \"))\n",
    "\n",
    "reversed_number = 0\n",
    "\n",
    "while number > 0:\n",
    "    remainder = number % 10\n",
    "    reversed_number = reversed_number * 10 + remainder\n",
    "    number = number // 10\n",
    "\n",
    "print(\"The number with digits reversed is:\", reversed_number)\n"
   ]
  },
  {
   "cell_type": "code",
   "execution_count": 1,
   "metadata": {},
   "outputs": [
    {
     "name": "stdout",
     "output_type": "stream",
     "text": [
      "hello\n"
     ]
    }
   ],
   "source": [
    "#Task 2\n",
    "\n",
    "numbers = list(map(int, input(\"Enter integers separated by spaces: \").split()))\n",
    "\n",
    "even_sum = 0\n",
    "odd_sum = 0\n",
    "\n",
    "for num in numbers:\n",
    "    if num % 2 == 0:\n",
    "        even_sum += num\n",
    "    else:\n",
    "        odd_sum += num\n",
    "\n",
    "print(\"Sum of even integers:\", even_sum)\n",
    "print(\"Sum of odd integers:\", odd_sum)\n"
   ]
  },
  {
   "cell_type": "code",
   "execution_count": null,
   "metadata": {},
   "outputs": [],
   "source": [
    "#Task3\n",
    "n = int(input(\"How many terms of the Fibonacci series do you want? \"))\n",
    "\n",
    "a, b = 0, 1\n",
    "count = 0\n",
    "\n",
    "while count < n:\n",
    "    print(a, end=\" \")\n",
    "    a, b = b, a + b\n",
    "    count += 1\n"
   ]
  },
  {
   "cell_type": "code",
   "execution_count": null,
   "metadata": {},
   "outputs": [],
   "source": [
    "\n",
    "\n",
    "\n",
    "##Task4\n",
    "\n",
    "marks = int(input(\"Enter marks (1-100): \"))\n",
    "\n",
    "if marks < 50:\n",
    "    print(\"Grade F\")\n",
    "elif marks <= 60:\n",
    "    print(\"Grade E\")\n",
    "elif marks <= 70:\n",
    "    print(\"Grade D\")\n",
    "elif marks <= 80:\n",
    "    print(\"Grade C\")\n",
    "elif marks <= 90:\n",
    "    print(\"Grade B\")\n",
    "elif marks <= 100:\n",
    "    print(\"Grade A\")\n"
   ]
  },
  {
   "cell_type": "code",
   "execution_count": null,
   "metadata": {},
   "outputs": [],
   "source": [
    "\n",
    "##task 5\n",
    "num = int(input(\"Enter a number: \"))\n",
    "factorial = 1\n",
    "\n",
    "for i in range(1, num + 1):\n",
    "    factorial *= i\n",
    "\n",
    "print(\"Factorial of\", num, \"is\", factorial)\n"
   ]
  }
 ],
 "metadata": {
  "kernelspec": {
   "display_name": "Python 3",
   "language": "python",
   "name": "python3"
  },
  "language_info": {
   "codemirror_mode": {
    "name": "ipython",
    "version": 3
   },
   "file_extension": ".py",
   "mimetype": "text/x-python",
   "name": "python",
   "nbconvert_exporter": "python",
   "pygments_lexer": "ipython3",
   "version": "3.12.3"
  }
 },
 "nbformat": 4,
 "nbformat_minor": 2
}

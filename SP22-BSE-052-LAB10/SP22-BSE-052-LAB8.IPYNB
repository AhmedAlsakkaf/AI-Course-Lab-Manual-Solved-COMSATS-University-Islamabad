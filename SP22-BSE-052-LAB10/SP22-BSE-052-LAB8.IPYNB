{
 "cells": [
  {
   "cell_type": "code",
   "execution_count": 1,
   "metadata": {},
   "outputs": [
    {
     "name": "stdout",
     "output_type": "stream",
     "text": [
      "{'South Australia': 'blue', 'New South Wales': 'green', 'Queensland': 'red', 'Northern Territory': 'green', 'Victoria': 'red', 'Western Australia': 'red', 'Tasmania': 'blue'}\n",
      "{'South Australia': 'blue', 'New South Wales': 'green', 'Queensland': 'red', 'Northern Territory': 'green', 'Victoria': 'red', 'Western Australia': 'red', 'Tasmania': 'green'}\n",
      "{'South Australia': 'blue', 'New South Wales': 'red', 'Queensland': 'green', 'Northern Territory': 'red', 'Victoria': 'green', 'Western Australia': 'green', 'Tasmania': 'red'}\n",
      "{'South Australia': 'blue', 'New South Wales': 'red', 'Queensland': 'green', 'Northern Territory': 'red', 'Victoria': 'green', 'Western Australia': 'green', 'Tasmania': 'blue'}\n",
      "{'South Australia': 'green', 'New South Wales': 'blue', 'Queensland': 'red', 'Northern Territory': 'blue', 'Victoria': 'red', 'Western Australia': 'red', 'Tasmania': 'green'}\n",
      "{'South Australia': 'green', 'New South Wales': 'blue', 'Queensland': 'red', 'Northern Territory': 'blue', 'Victoria': 'red', 'Western Australia': 'red', 'Tasmania': 'blue'}\n",
      "{'South Australia': 'green', 'New South Wales': 'red', 'Queensland': 'blue', 'Northern Territory': 'red', 'Victoria': 'blue', 'Western Australia': 'blue', 'Tasmania': 'red'}\n",
      "{'South Australia': 'green', 'New South Wales': 'red', 'Queensland': 'blue', 'Northern Territory': 'red', 'Victoria': 'blue', 'Western Australia': 'blue', 'Tasmania': 'green'}\n",
      "{'South Australia': 'red', 'New South Wales': 'green', 'Queensland': 'blue', 'Northern Territory': 'green', 'Victoria': 'blue', 'Western Australia': 'blue', 'Tasmania': 'red'}\n",
      "{'South Australia': 'red', 'New South Wales': 'green', 'Queensland': 'blue', 'Northern Territory': 'green', 'Victoria': 'blue', 'Western Australia': 'blue', 'Tasmania': 'green'}\n",
      "{'South Australia': 'red', 'New South Wales': 'blue', 'Queensland': 'green', 'Northern Territory': 'blue', 'Victoria': 'green', 'Western Australia': 'green', 'Tasmania': 'blue'}\n",
      "{'South Australia': 'red', 'New South Wales': 'blue', 'Queensland': 'green', 'Northern Territory': 'blue', 'Victoria': 'green', 'Western Australia': 'green', 'Tasmania': 'red'}\n"
     ]
    }
   ],
   "source": [
    "#activity SP22-BSE-052\n",
    "from constraint import Problem, AllDifferentConstraint\n",
    "\n",
    "regions = [\"Western Australia\", \"Northern Territory\", \"South Australia\", \"Queensland\", \"New South Wales\", \"Victoria\", \"Tasmania\"]\n",
    "colors = [\"red\", \"green\", \"blue\"]\n",
    "neighbors = [(\"Western Australia\", \"Northern Territory\"), (\"Western Australia\", \"South Australia\"), (\"South Australia\", \"Northern Territory\"), \n",
    "             (\"Queensland\", \"Northern Territory\"), (\"Queensland\", \"South Australia\"), (\"Queensland\", \"New South Wales\"), \n",
    "             (\"New South Wales\", \"South Australia\"), (\"Victoria\", \"South Australia\"), (\"Victoria\", \"New South Wales\"), \n",
    "             (\"Victoria\", \"Tasmania\")]\n",
    "\n",
    "problem = Problem()\n",
    "problem.addVariables(regions, colors)\n",
    "for neighbor in neighbors:\n",
    "    problem.addConstraint(AllDifferentConstraint(), neighbor)\n",
    "solutions = problem.getSolutions()\n",
    "for solution in solutions:\n",
    "    print(solution)\n"
   ]
  },
  {
   "cell_type": "code",
   "execution_count": 3,
   "metadata": {},
   "outputs": [
    {
     "name": "stdout",
     "output_type": "stream",
     "text": [
      "Solution:\n",
      "0 0 1 0\n",
      "1 0 0 0\n",
      "0 0 0 1\n",
      "0 1 0 0\n"
     ]
    },
    {
     "data": {
      "text/plain": [
       "True"
      ]
     },
     "execution_count": 3,
     "metadata": {},
     "output_type": "execute_result"
    }
   ],
   "source": [
    "'''\n",
    "Variables: Each queen will be represented by a variable, where the domain of each variable represents the row position of the queen.\n",
    "\n",
    "Constraints: \n",
    "1. no two queens should be in the same row.\n",
    "2. no two queens should be in the same column.\n",
    "3. no two queesn should be in the same diagonal.\n",
    "\n",
    "'''\n",
    "\n",
    "def is_safe(board, row, col):\n",
    "    for i in range(col):\n",
    "        if board[row][i] == 1:\n",
    "            return False\n",
    "    \n",
    "    for i, j in zip(range(row, -1, -1), range(col, -1, -1)):\n",
    "        if board[i][j] == 1:\n",
    "            return False\n",
    "    \n",
    "    for i, j in zip(range(row, len(board)), range(col, -1, -1)):\n",
    "        if board[i][j] == 1:\n",
    "            return False\n",
    "    \n",
    "    return True\n",
    "\n",
    "def solve_queens_util(board, col):\n",
    "    size = len(board)\n",
    "    if col >= size:\n",
    "        return True\n",
    "    \n",
    "    for i in range(size):\n",
    "        if is_safe(board, i, col):\n",
    "            board[i][col] = 1\n",
    "            \n",
    "            if solve_queens_util(board, col + 1):\n",
    "                return True\n",
    "            \n",
    "            board[i][col] = 0\n",
    "            \n",
    "    return False\n",
    "\n",
    "def solve_queens():\n",
    "    size = 4\n",
    "    board = [[0 for _ in range(size)] for _ in range(size)]\n",
    "    \n",
    "    if not solve_queens_util(board, 0):\n",
    "        print(\"Solution does not exist\")\n",
    "        return False\n",
    "    \n",
    "    print(\"Solution:\")\n",
    "    print_board(board)\n",
    "    return True\n",
    "\n",
    "def print_board(board):\n",
    "    for row in board:\n",
    "        print(\" \".join(map(str, row)))\n",
    "\n",
    "solve_queens()\n"
   ]
  }
 ],
 "metadata": {
  "kernelspec": {
   "display_name": "Python 3",
   "language": "python",
   "name": "python3"
  },
  "language_info": {
   "codemirror_mode": {
    "name": "ipython",
    "version": 3
   },
   "file_extension": ".py",
   "mimetype": "text/x-python",
   "name": "python",
   "nbconvert_exporter": "python",
   "pygments_lexer": "ipython3",
   "version": "3.12.3"
  }
 },
 "nbformat": 4,
 "nbformat_minor": 2
}

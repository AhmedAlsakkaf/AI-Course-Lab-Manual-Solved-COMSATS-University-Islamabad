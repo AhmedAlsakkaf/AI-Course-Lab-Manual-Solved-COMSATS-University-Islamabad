{
 "cells": [
  {
   "cell_type": "code",
   "execution_count": 2,
   "metadata": {},
   "outputs": [],
   "source": [
    "# Activity1\n",
    "myList1 = []\n",
    "print(\"Enter objects of first list...\")\n",
    "for i in range(5):\n",
    "    val = input(\"Enter a value: \")\n",
    "    n = int(val)\n",
    "    myList1.append(n)\n",
    "\n",
    "myList2 = []\n",
    "print(\"Enter objects of second list...\")\n",
    "for i in range(5):\n",
    "    val = input(\"Enter a value: \")\n",
    "    n = int(val)\n",
    "    myList2.append(n)\n",
    "\n",
    "list3 = myList1 + myList2\n",
    "print(list3)\n"
   ]
  },
  {
   "cell_type": "code",
   "execution_count": null,
   "metadata": {},
   "outputs": [],
   "source": [
    "\n",
    "#Activity2\n",
    "def isPalindrome(word):\n",
    "    temp = word[::-1]\n",
    "    if temp.capitalize() == word.capitalize():\n",
    "        return True\n",
    "    else:\n",
    "        return False\n",
    "\n",
    "print(isPalindrome(\"deed\"))\n",
    "\n"
   ]
  },
  {
   "cell_type": "code",
   "execution_count": null,
   "metadata": {},
   "outputs": [],
   "source": [
    "# Activity3\n",
    "\n",
    "c = []\n",
    "for indrow in range(3):\n",
    "    c.append([])\n",
    "    for indcol in range(3):\n",
    "        c[indrow].append(0)\n",
    "        for indaux in range(3):\n",
    "            c[indrow][indcol] += a[indrow][indaux] * b[indcol][indaux]\n",
    "\n",
    "print(c)\n",
    "\n"
   ]
  },
  {
   "cell_type": "code",
   "execution_count": null,
   "metadata": {},
   "outputs": [],
   "source": [
    "\n",
    "#Activity4\n",
    "\n",
    "def perimeter(listing):\n",
    "    length = len(listing)\n",
    "    perimeter = 0\n",
    "\n",
    "    for i in range(0, length - 1):\n",
    "        dist = (((listing[i][0] - listing[i + 1][0]) ** 2) +\n",
    "                 ((listing[i][1] - listing[i + 1][1]) ** 2)) ** 0.5\n",
    "        perimeter += dist\n",
    "\n",
    "    perimeter += (((listing[0][0] - listing[length - 1][0]) ** 2) +\n",
    "                  ((listing[0][1] - listing[length - 1][1]) ** 2)) ** 0.5\n",
    "\n",
    "    return perimeter\n",
    "\n",
    "L = [(1, 3), (2, 7), (3, 9), (-1, 8)]\n",
    "print(perimeter(L))\n",
    "\n"
   ]
  },
  {
   "cell_type": "code",
   "execution_count": null,
   "metadata": {},
   "outputs": [],
   "source": [
    "\n",
    "#Activity#5\n",
    "def symmDiff(a, b):\n",
    "    e = set()  \n",
    "\n",
    "    for i in a:  \n",
    "        if i not in b:\n",
    "            e.add(i)\n",
    "\n",
    "    for i in b:  \n",
    "        if i not in a:\n",
    "            e.add(i)\n",
    "\n",
    "    return e\n",
    "\n",
    "set1 = {0, 1, 2, 4, 5}\n",
    "set2 = {4, 5, 7, 8, 9}\n",
    "print(symmDiff(set1, set2))\n",
    "\n",
    "print(set1.symmetric_difference(set2))\n",
    "print(set2.symmetric_difference(set1))\n",
    "\n",
    "print(set1 ^ set2)\n",
    "print(set2 ^ set1)\n",
    "\n"
   ]
  },
  {
   "cell_type": "code",
   "execution_count": null,
   "metadata": {},
   "outputs": [],
   "source": [
    "\n",
    "##Activity#6\n",
    "sample = {\n",
    "    (\"sohaib\", \"ali\"): \"0246585468445\",\n",
    "    (\"aib\", \"li\"): \"02465854645\",\n",
    "    (\"sib\", \"ai\"): \"0246585468445\"\n",
    "}\n",
    "\n",
    "firstName = input(\"enter first name\")\n",
    "lastName = input(\"enter last name\")\n",
    "\n",
    "searchTuple = (firstName, lastName)\n",
    "\n",
    "if searchTuple in sample:\n",
    "    print(sample[searchTuple])\n",
    "else:\n",
    "    print(\"name not found\")\n"
   ]
  }
 ],
 "metadata": {
  "kernelspec": {
   "display_name": "Python 3",
   "language": "python",
   "name": "python3"
  },
  "language_info": {
   "codemirror_mode": {
    "name": "ipython",
    "version": 3
   },
   "file_extension": ".py",
   "mimetype": "text/x-python",
   "name": "python",
   "nbconvert_exporter": "python",
   "pygments_lexer": "ipython3",
   "version": "3.12.3"
  }
 },
 "nbformat": 4,
 "nbformat_minor": 2
}

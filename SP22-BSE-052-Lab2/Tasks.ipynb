{
 "cells": [
  {
   "cell_type": "code",
   "execution_count": 2,
   "metadata": {},
   "outputs": [],
   "source": [
    "#Task1\n",
    "\n",
    "list1 = [5, 3, 9, 1, 7]\n",
    "list2 = [8, 2, 4, 6, 10]\n",
    "merged_list = list1 + list2\n",
    "sorted_list = sorted(merged_list)\n",
    "print(sorted_list)\n"
   ]
  },
  {
   "cell_type": "code",
   "execution_count": 1,
   "metadata": {},
   "outputs": [
    {
     "name": "stdout",
     "output_type": "stream",
     "text": [
      "hello\n"
     ]
    }
   ],
   "source": [
    "#Task 2\n",
    "\n",
    "list1 = [5, 3, 9, 1, 7]\n",
    "list2 = [8, 2, 4, 6, 10]\n",
    "merged_list = list1 + list2\n",
    "sorted_list = sorted(merged_list)\n",
    "smallest = sorted_list[0]\n",
    "largest = sorted_list[-1]\n",
    "print(\"Smallest:\", smallest)\n",
    "print(\"Largest:\", largest)\n",
    "\n"
   ]
  },
  {
   "cell_type": "code",
   "execution_count": null,
   "metadata": {},
   "outputs": [],
   "source": [
    "#Task3\n"
   ]
  },
  {
   "cell_type": "code",
   "execution_count": 1,
   "metadata": {},
   "outputs": [
    {
     "name": "stdout",
     "output_type": "stream",
     "text": [
      "Welcome to the birthday dictionary. We know the birthdays of:\n",
      "Ahmed Alsakkaf\n",
      "Umar Noman\n",
      "Hasaan Ahmed\n"
     ]
    }
   ],
   "source": [
    "\n",
    "\n",
    "\n",
    "##Task4\n",
    "\n",
    "birthday_dict = {\n",
    "    \"Ahmed Alsakkaf\": \"03/14/1879\",\n",
    "    \"Umar Noman\": \"01/17/1706\",\n",
    "    \"Hasaan Ahmed\": \"12/10/1815\"\n",
    "}\n",
    "\n",
    "print(\"Welcome to the birthday dictionary. We know the birthdays of:\")\n",
    "for name in birthday_dict.keys():\n",
    "    print(name)\n",
    "\n",
    "name = input(\"Who's birthday do you want to look up? \")\n",
    "\n",
    "if name in birthday_dict:\n",
    "    print(f\"{name}'s birthday is {birthday_dict[name]}.\")\n",
    "else:\n",
    "    print(\"Sorry, we don't have that person's birthday information.\")\n"
   ]
  },
  {
   "cell_type": "code",
   "execution_count": null,
   "metadata": {},
   "outputs": [],
   "source": [
    "\n",
    "##task 5\n",
    "sample_dict = { \n",
    "    \"name\": \"Ahmed\", \n",
    "    \"age\": 25, \n",
    "    \"salary\": 8000, \n",
    "    \"city\": \"New york\"\n",
    "} \n",
    "\n",
    "keys = [\"name\", \"salary\"] \n",
    "\n",
    "new_dict = {key: sample_dict[key] for key in keys}\n",
    "print(new_dict)\n",
    "\n"
   ]
  }
 ],
 "metadata": {
  "kernelspec": {
   "display_name": "Python 3",
   "language": "python",
   "name": "python3"
  },
  "language_info": {
   "codemirror_mode": {
    "name": "ipython",
    "version": 3
   },
   "file_extension": ".py",
   "mimetype": "text/x-python",
   "name": "python",
   "nbconvert_exporter": "python",
   "pygments_lexer": "ipython3",
   "version": "3.12.3"
  }
 },
 "nbformat": 4,
 "nbformat_minor": 2
}

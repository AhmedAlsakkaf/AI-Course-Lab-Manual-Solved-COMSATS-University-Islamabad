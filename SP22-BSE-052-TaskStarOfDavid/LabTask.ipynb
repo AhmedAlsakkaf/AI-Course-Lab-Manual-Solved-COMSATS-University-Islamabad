{
 "cells": [
  {
   "cell_type": "code",
   "execution_count": 1,
   "metadata": {},
   "outputs": [],
   "source": [
    "max = int(input(\"Enter the max number: \"))\n",
    "col = max + max-5\n",
    "mid = col//2\n",
    "\n",
    "\n",
    "\n",
    "for i in range(max):\n",
    "  for j in range (col):\n",
    "    if i==2 or i==(max-3) or i+j==mid or j-i==mid or i-j==2 or j+i==col+1:\n",
    "      print(\"*\", end=\" \")\n",
    "\n",
    "    else:\n",
    "      print(\" \", end=\" \")\n",
    "\n",
    "  print()\n",
    "    \n"
   ]
  }
 ],
 "metadata": {
  "kernelspec": {
   "display_name": "Python 3",
   "language": "python",
   "name": "python3"
  },
  "language_info": {
   "codemirror_mode": {
    "name": "ipython",
    "version": 3
   },
   "file_extension": ".py",
   "mimetype": "text/x-python",
   "name": "python",
   "nbconvert_exporter": "python",
   "pygments_lexer": "ipython3",
   "version": "3.12.3"
  }
 },
 "nbformat": 4,
 "nbformat_minor": 2
}

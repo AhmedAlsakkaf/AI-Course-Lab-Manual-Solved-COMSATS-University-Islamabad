{
 "cells": [
  {
   "cell_type": "code",
   "execution_count": 3,
   "metadata": {},
   "outputs": [
    {
     "name": "stdout",
     "output_type": "stream",
     "text": [
      "{'F', 'C', 'E', 'B', 'D', 'G', 'A'}\n"
     ]
    }
   ],
   "source": [
    "#Activities\n",
    "import collections\n",
    "\n",
    "\n",
    "def bfs(graph, root):\n",
    "    visited = set()\n",
    "    queue = collections.deque([root])\n",
    "\n",
    "    while queue:\n",
    "        vertex = queue.popleft()\n",
    "        visited.add(vertex)\n",
    "        for i in graph[vertex]:\n",
    "            if i not in visited:\n",
    "                queue.append(i)\n",
    "    print(visited)\n",
    "\n",
    "\n",
    "if __name__ == \"__main__\":\n",
    "    graph = {\n",
    "        'A': ['B', 'E', 'C'],\n",
    "        'B': ['A', 'E', 'D'],\n",
    "        'E': ['A', 'D', 'B'],\n",
    "        'C': ['A', 'F', 'G'],\n",
    "        'D':['B', 'E'],\n",
    "        'F':['C'],\n",
    "        'G':['C']\n",
    "    }\n",
    "\n",
    "    bfs(graph, 'A')\n",
    "\n"
   ]
  },
  {
   "cell_type": "code",
   "execution_count": 4,
   "metadata": {},
   "outputs": [
    {
     "name": "stdout",
     "output_type": "stream",
     "text": [
      "['Arad', 'Sibiu', 'Fagaras', 'Bucharest']\n"
     ]
    }
   ],
   "source": [
    "#GradedTask#1\n",
    "class Node:\n",
    "    def __init__(self, name, neighbors=None):\n",
    "        self.name = name\n",
    "        self.neighbors = neighbors if neighbors else []\n",
    "        self.visited = False\n",
    "\n",
    "\n",
    "graph = {\n",
    "    'Arad': Node('Arad', [('Zerind', 75), ('Sibiu', 140), ('Timisoara', 118)]),\n",
    "    'Bucharest': Node('Bucharest', [('Giurgiu', 85), ('Pitesti', 211), ('Urziceni', 98)]),\n",
    "    'Craiova': Node('Craiova', [('Drobeta', 120), ('Rimnicu Vilcea', 146), ('Pitesti', 138)]),\n",
    "    'Drobeta': Node('Drobeta', [('Mehadia', 80)]),\n",
    "    'Eforie': Node('Eforie'),\n",
    "    'Fagaras': Node('Fagaras', [('Sibiu', 99), ('Bucharest', 211)]),\n",
    "    'Giurgiu': Node('Giurgiu', [('Bucharest', 90)]),\n",
    "    'Hirsova': Node('Hirsova', [('Urziceni', 98)]),\n",
    "    'Iasi': Node('Iasi', [('Neamt', 87)]),\n",
    "    'Lugoj': Node('Lugoj', [('Mehadia', 70)]),\n",
    "    'Mehadia': Node('Mehadia', [('Lugoj', 75), ('Drobeta', 151)]),\n",
    "    'Neamt': Node('Neamt', [('Iasi', 92)]),\n",
    "    'Oradea': Node('Oradea', [('Zerind', 140)]),\n",
    "    'Pitesti': Node('Pitesti', [('Rimnicu Vilcea', 97), ('Craiova', 138), ('Bucharest', 101)]),\n",
    "    'Rimnicu Vilcea': Node('Rimnicu Vilcea', [('Sibiu', 80), ('Pitesti', 97), ('Craiova', 146)]),\n",
    "    'Sibiu': Node('Sibiu', [('Fagaras', 99), ('Rimnicu Vilcea', 80), ('Arad', 140), ('Oradea', 151)]),\n",
    "    'Timisoara': Node('Timisoara', [('Arad', 118)]),\n",
    "    'Urziceni': Node('Urziceni', [('Hirsova', 86), ('Bucharest', 98), ('Vaslui', 142)]),\n",
    "    'Vaslui': Node('Vaslui', [('Urziceni', 98), ('Iasi', 92)]),\n",
    "    'Zerind': Node('Zerind', [('Oradea', 71), ('Arad', 75)])\n",
    "    }\n",
    "\n",
    "def BFS(graph, initialstate, goalstate):\n",
    "    frontier = [initialstate]\n",
    "    explored = []\n",
    "\n",
    "    while frontier:\n",
    "        currentNode = frontier.pop(0)\n",
    "        explored.append(currentNode)\n",
    "\n",
    "        if currentNode == goalstate:\n",
    "            return actionSequence(graph, initialstate, goalstate)\n",
    "\n",
    "        for child in graph[currentNode].neighbors:\n",
    "            if child[0] not in frontier and child[0] not in explored:\n",
    "                graph[child[0]].parent = currentNode\n",
    "                frontier.append(child[0])\n",
    "\n",
    "def actionSequence(graph, initialstate, goalstate):\n",
    "    solution = [goalstate]\n",
    "    currentParent = graph[goalstate].parent\n",
    "\n",
    "    while currentParent != initialstate:\n",
    "        solution.append(currentParent)\n",
    "        currentParent = graph[currentParent].parent\n",
    "\n",
    "    solution.append(initialstate)\n",
    "    solution.reverse()\n",
    "    return solution\n",
    "\n",
    "initialstate = 'Arad'\n",
    "goalstate = 'Bucharest'\n",
    "\n",
    "solution = BFS(graph, initialstate, goalstate)\n",
    "print(solution)\n",
    "\n"
   ]
  },
  {
   "cell_type": "code",
   "execution_count": 5,
   "metadata": {},
   "outputs": [
    {
     "name": "stdout",
     "output_type": "stream",
     "text": [
      "Destination reached! Path: [(3, 3), (4, 3), (5, 3), (6, 3), (6, 4), (6, 5), (6, 6), (5, 6), (4, 6), (3, 6), (2, 6), (1, 6), (1, 5), (0, 5)]\n"
     ]
    }
   ],
   "source": [
    "#gradedTask2\n",
    "\n",
    "import queue\n",
    "maze = [\n",
    "    [\"#\", \"#\", \"#\", \"#\", \"#\", \"o\", \"#\", \"#\"],\n",
    "    [\"#\", \"o\", \"o\", \"o\", \"o\", \"o\", \"o\", \"#\"],\n",
    "    [\"#\", \"o\", \"#\", \"#\", \"#\", \"#\", \"o\", \"#\"],\n",
    "    [\"#\", \"o\", \"#\", \"o\", \"#\", \"o\", \"o\", \"#\"],\n",
    "    [\"#\", \"o\", \"#\", \"o\", \"#\", \"#\", \"o\", \"#\"],\n",
    "    [\"#\", \"o\", \"#\", \"o\", \"#\", \"o\", \"o\", \"#\"],\n",
    "    [\"#\", \"o\", \"o\", \"o\", \"o\", \"o\", \"o\", \"#\"],\n",
    "    [\"#\", \"#\", \"#\", \"#\", \"#\", \"#\", \"#\", \"#\"],\n",
    "]\n",
    "\n",
    "start = (3, 3)  # Starting position\n",
    "end = (0, 5)    # Destination position\n",
    "\n",
    "queue = queue.Queue()\n",
    "queue.put([start]) \n",
    "visited = set()\n",
    "visited.add(start)\n",
    "\n",
    "directions = [(0, 1), (0, -1), (-1, 0), (1, 0)]  \n",
    "\n",
    "while not queue.empty():\n",
    "    current_path = queue.get()\n",
    "    current_position = current_path[-1] \n",
    "\n",
    "    if current_position == end:\n",
    "        print(\"Destination reached! Path:\", current_path)\n",
    "        break\n",
    "\n",
    "    for direction in directions:\n",
    "        new_position = (current_position[0] + direction[0], current_position[1] + direction[1])\n",
    "\n",
    "        if (\n",
    "            0 <= new_position[0] < len(maze) and\n",
    "            0 <= new_position[1] < len(maze[0]) and\n",
    "            maze[new_position[0]][new_position[1]] != \"#\" and\n",
    "            new_position not in visited\n",
    "        ):\n",
    "            new_path = list(current_path)\n",
    "            new_path.append(new_position)\n",
    "            queue.put(new_path)\n",
    "            visited.add(new_position)"
   ]
  }
 ],
 "metadata": {
  "kernelspec": {
   "display_name": "Python 3",
   "language": "python",
   "name": "python3"
  },
  "language_info": {
   "codemirror_mode": {
    "name": "ipython",
    "version": 3
   },
   "file_extension": ".py",
   "mimetype": "text/x-python",
   "name": "python",
   "nbconvert_exporter": "python",
   "pygments_lexer": "ipython3",
   "version": "3.12.3"
  }
 },
 "nbformat": 4,
 "nbformat_minor": 2
}
